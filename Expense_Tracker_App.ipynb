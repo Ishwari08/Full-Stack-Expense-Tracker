{
  "nbformat": 4,
  "nbformat_minor": 0,
  "metadata": {
    "colab": {
      "provenance": []
    },
    "kernelspec": {
      "name": "python3",
      "display_name": "Python 3"
    },
    "language_info": {
      "name": "python"
    }
  },
  "cells": [
    {
      "cell_type": "markdown",
      "source": [
        "**Backend (Flask)**"
      ],
      "metadata": {
        "id": "0r1TdT_yp745"
      }
    },
    {
      "cell_type": "markdown",
      "source": [
        "The backend will handle user authentication and CRUD operations for expenses. We'll use SQLite for simplicity."
      ],
      "metadata": {
        "id": "_jxr0MyuqB4N"
      }
    },
    {
      "cell_type": "markdown",
      "source": [
        "1. Backend Setup\n",
        "- Install the necessary libraries:"
      ],
      "metadata": {
        "id": "VnUpCgsYqB7Z"
      }
    },
    {
      "cell_type": "code",
      "source": [
        "pip install Flask Flask-SQLAlchemy Flask-JWT-Extended\n"
      ],
      "metadata": {
        "colab": {
          "base_uri": "https://localhost:8080/"
        },
        "id": "pyicIhIMqKp6",
        "outputId": "044bb248-4f03-4534-b6a4-512cc7e1a0e4"
      },
      "execution_count": null,
      "outputs": [
        {
          "output_type": "stream",
          "name": "stdout",
          "text": [
            "Requirement already satisfied: Flask in /usr/local/lib/python3.10/dist-packages (2.2.5)\n",
            "Collecting Flask-SQLAlchemy\n",
            "  Downloading flask_sqlalchemy-3.1.1-py3-none-any.whl.metadata (3.4 kB)\n",
            "Collecting Flask-JWT-Extended\n",
            "  Downloading Flask_JWT_Extended-4.6.0-py2.py3-none-any.whl.metadata (3.9 kB)\n",
            "Requirement already satisfied: Werkzeug>=2.2.2 in /usr/local/lib/python3.10/dist-packages (from Flask) (3.0.4)\n",
            "Requirement already satisfied: Jinja2>=3.0 in /usr/local/lib/python3.10/dist-packages (from Flask) (3.1.4)\n",
            "Requirement already satisfied: itsdangerous>=2.0 in /usr/local/lib/python3.10/dist-packages (from Flask) (2.2.0)\n",
            "Requirement already satisfied: click>=8.0 in /usr/local/lib/python3.10/dist-packages (from Flask) (8.1.7)\n",
            "Requirement already satisfied: sqlalchemy>=2.0.16 in /usr/local/lib/python3.10/dist-packages (from Flask-SQLAlchemy) (2.0.34)\n",
            "Requirement already satisfied: PyJWT<3.0,>=2.0 in /usr/local/lib/python3.10/dist-packages (from Flask-JWT-Extended) (2.9.0)\n",
            "Requirement already satisfied: MarkupSafe>=2.0 in /usr/local/lib/python3.10/dist-packages (from Jinja2>=3.0->Flask) (2.1.5)\n",
            "Requirement already satisfied: typing-extensions>=4.6.0 in /usr/local/lib/python3.10/dist-packages (from sqlalchemy>=2.0.16->Flask-SQLAlchemy) (4.12.2)\n",
            "Requirement already satisfied: greenlet!=0.4.17 in /usr/local/lib/python3.10/dist-packages (from sqlalchemy>=2.0.16->Flask-SQLAlchemy) (3.1.0)\n",
            "Downloading flask_sqlalchemy-3.1.1-py3-none-any.whl (25 kB)\n",
            "Downloading Flask_JWT_Extended-4.6.0-py2.py3-none-any.whl (22 kB)\n",
            "Installing collected packages: Flask-SQLAlchemy, Flask-JWT-Extended\n",
            "Successfully installed Flask-JWT-Extended-4.6.0 Flask-SQLAlchemy-3.1.1\n"
          ]
        }
      ]
    },
    {
      "cell_type": "markdown",
      "source": [
        "2. Backend Code\n",
        "- App Structure:"
      ],
      "metadata": {
        "id": "oTMW5Hc-qPnu"
      }
    },
    {
      "cell_type": "code",
      "source": [
        "backend/\n",
        "│\n",
        "├── app.py\n",
        "├── models.py\n",
        "├── database.db\n",
        "├── requirements.txt\n",
        "└── config.py\n"
      ],
      "metadata": {
        "colab": {
          "base_uri": "https://localhost:8080/",
          "height": 106
        },
        "collapsed": true,
        "id": "y_l0PLg9qacs",
        "outputId": "01dfc2f8-8016-4d55-b63d-8cf4336101ee"
      },
      "execution_count": null,
      "outputs": [
        {
          "output_type": "error",
          "ename": "SyntaxError",
          "evalue": "invalid character '│' (U+2502) (<ipython-input-6-17096aac72b9>, line 2)",
          "traceback": [
            "\u001b[0;36m  File \u001b[0;32m\"<ipython-input-6-17096aac72b9>\"\u001b[0;36m, line \u001b[0;32m2\u001b[0m\n\u001b[0;31m    │\u001b[0m\n\u001b[0m    ^\u001b[0m\n\u001b[0;31mSyntaxError\u001b[0m\u001b[0;31m:\u001b[0m invalid character '│' (U+2502)\n"
          ]
        }
      ]
    },
    {
      "cell_type": "markdown",
      "source": [
        "1. app.py: Main Flask Application"
      ],
      "metadata": {
        "id": "ZdkoARm2qiFw"
      }
    },
    {
      "cell_type": "code",
      "source": [
        "from flask import Flask, request, jsonify\n",
        "from flask_sqlalchemy import SQLAlchemy\n",
        "from flask_jwt_extended import JWTManager, create_access_token, jwt_required, get_jwt_identity\n",
        "from datetime import timedelta\n",
        "\n",
        "app = Flask(__name__)\n",
        "app.config['SQLALCHEMY_DATABASE_URI'] = 'sqlite:///database.db'\n",
        "app.config['JWT_SECRET_KEY'] = 'supersecretkey'\n",
        "app.config['JWT_ACCESS_TOKEN_EXPIRES'] = timedelta(hours=1)\n",
        "\n",
        "db = SQLAlchemy(app)\n",
        "jwt = JWTManager(app)\n",
        "\n",
        "# Import models\n",
        "from models import User, Expense\n",
        "\n",
        "# Sign Up\n",
        "@app.route('/signup', methods=['POST'])\n",
        "def signup():\n",
        "    data = request.get_json()\n",
        "    new_user = User(username=data['username'], password=data['password'])\n",
        "    db.session.add(new_user)\n",
        "    db.session.commit()\n",
        "    return jsonify({\"message\": \"User created successfully!\"}), 201\n",
        "\n",
        "# Login\n",
        "@app.route('/login', methods=['POST'])\n",
        "def login():\n",
        "    data = request.get_json()\n",
        "    user = User.query.filter_by(username=data['username']).first()\n",
        "    if user and user.password == data['password']:\n",
        "        token = create_access_token(identity=user.id)\n",
        "        return jsonify({\"token\": token}), 200\n",
        "    return jsonify({\"message\": \"Invalid credentials!\"}), 401\n",
        "\n",
        "# Add Expense\n",
        "@app.route('/expenses', methods=['POST'])\n",
        "@jwt_required()\n",
        "def add_expense():\n",
        "    user_id = get_jwt_identity()\n",
        "    data = request.get_json()\n",
        "    new_expense = Expense(user_id=user_id, category=data['category'], amount=data['amount'], comments=data.get('comments'))\n",
        "    db.session.add(new_expense)\n",
        "    db.session.commit()\n",
        "    return jsonify({\"message\": \"Expense added!\"}), 201\n",
        "\n",
        "# View Expenses\n",
        "@app.route('/expenses', methods=['GET'])\n",
        "@jwt_required()\n",
        "def get_expenses():\n",
        "    user_id = get_jwt_identity()\n",
        "    expenses = Expense.query.filter_by(user_id=user_id).order_by(Expense.created_at.desc()).all()\n",
        "    return jsonify([expense.to_dict() for expense in expenses]), 200\n",
        "\n",
        "# Edit Expense\n",
        "@app.route('/expenses/<int:id>', methods=['PUT'])\n",
        "@jwt_required()\n",
        "def edit_expense(id):\n",
        "    data = request.get_json()\n",
        "    expense = Expense.query.get(id)\n",
        "    if expense:\n",
        "        expense.category = data['category']\n",
        "        expense.amount = data['amount']\n",
        "        expense.comments = data.get('comments')\n",
        "        db.session.commit()\n",
        "        return jsonify({\"message\": \"Expense updated!\"}), 200\n",
        "    return jsonify({\"message\": \"Expense not found!\"}), 404\n",
        "\n",
        "# Delete Expense\n",
        "@app.route('/expenses/<int:id>', methods=['DELETE'])\n",
        "@jwt_required()\n",
        "def delete_expense(id):\n",
        "    expense = Expense.query.get(id)\n",
        "    if expense:\n",
        "        db.session.delete(expense)\n",
        "        db.session.commit()\n",
        "        return jsonify({\"message\": \"Expense deleted!\"}), 200\n",
        "    return jsonify({\"message\": \"Expense not found!\"}), 404\n",
        "\n",
        "if __name__ == '__main__':\n",
        "    app.run(debug=True)\n"
      ],
      "metadata": {
        "colab": {
          "base_uri": "https://localhost:8080/",
          "height": 385
        },
        "collapsed": true,
        "id": "SG2w5bCuqlTx",
        "outputId": "d55aa27e-e674-410f-9269-593d2fb99989"
      },
      "execution_count": null,
      "outputs": [
        {
          "output_type": "error",
          "ename": "ModuleNotFoundError",
          "evalue": "No module named 'models'",
          "traceback": [
            "\u001b[0;31m---------------------------------------------------------------------------\u001b[0m",
            "\u001b[0;31mModuleNotFoundError\u001b[0m                       Traceback (most recent call last)",
            "\u001b[0;32m<ipython-input-7-e9421f86adb0>\u001b[0m in \u001b[0;36m<cell line: 15>\u001b[0;34m()\u001b[0m\n\u001b[1;32m     13\u001b[0m \u001b[0;34m\u001b[0m\u001b[0m\n\u001b[1;32m     14\u001b[0m \u001b[0;31m# Import models\u001b[0m\u001b[0;34m\u001b[0m\u001b[0;34m\u001b[0m\u001b[0m\n\u001b[0;32m---> 15\u001b[0;31m \u001b[0;32mfrom\u001b[0m \u001b[0mmodels\u001b[0m \u001b[0;32mimport\u001b[0m \u001b[0mUser\u001b[0m\u001b[0;34m,\u001b[0m \u001b[0mExpense\u001b[0m\u001b[0;34m\u001b[0m\u001b[0;34m\u001b[0m\u001b[0m\n\u001b[0m\u001b[1;32m     16\u001b[0m \u001b[0;34m\u001b[0m\u001b[0m\n\u001b[1;32m     17\u001b[0m \u001b[0;31m# Sign Up\u001b[0m\u001b[0;34m\u001b[0m\u001b[0;34m\u001b[0m\u001b[0m\n",
            "\u001b[0;31mModuleNotFoundError\u001b[0m: No module named 'models'",
            "",
            "\u001b[0;31m---------------------------------------------------------------------------\u001b[0;32m\nNOTE: If your import is failing due to a missing package, you can\nmanually install dependencies using either !pip or !apt.\n\nTo view examples of installing some common dependencies, click the\n\"Open Examples\" button below.\n\u001b[0;31m---------------------------------------------------------------------------\u001b[0m\n"
          ],
          "errorDetails": {
            "actions": [
              {
                "action": "open_url",
                "actionText": "Open Examples",
                "url": "/notebooks/snippets/importing_libraries.ipynb"
              }
            ]
          }
        }
      ]
    },
    {
      "cell_type": "markdown",
      "source": [
        "2. models.py: Database Models"
      ],
      "metadata": {
        "id": "q7Iv3kgjqtSb"
      }
    },
    {
      "cell_type": "code",
      "source": [
        "from app import db\n",
        "from datetime import datetime\n",
        "\n",
        "class User(db.Model):\n",
        "    id = db.Column(db.Integer, primary_key=True)\n",
        "    username = db.Column(db.String(80), unique=True, nullable=False)\n",
        "    password = db.Column(db.String(80), nullable=False)\n",
        "\n",
        "class Expense(db.Model):\n",
        "    id = db.Column(db.Integer, primary_key=True)\n",
        "    category = db.Column(db.String(80), nullable=False)\n",
        "    amount = db.Column(db.Float, nullable=False)\n",
        "    comments = db.Column(db.String(200), nullable=True)\n",
        "    created_at = db.Column(db.DateTime, default=datetime.utcnow)\n",
        "    user_id = db.Column(db.Integer, db.ForeignKey('user.id'), nullable=False)\n",
        "\n",
        "    def to_dict(self):\n",
        "        return {\n",
        "            'id': self.id,\n",
        "            'category': self.category,\n",
        "            'amount': self.amount,\n",
        "            'comments': self.comments,\n",
        "            'created_at': self.created_at\n",
        "        }\n",
        "\n",
        "db.create_all()\n"
      ],
      "metadata": {
        "colab": {
          "base_uri": "https://localhost:8080/",
          "height": 385
        },
        "id": "z7yYen5Uq1Bg",
        "outputId": "332c418b-ae4f-4646-c43e-1ff75b8f4a07",
        "collapsed": true
      },
      "execution_count": null,
      "outputs": [
        {
          "output_type": "error",
          "ename": "ModuleNotFoundError",
          "evalue": "No module named 'app'",
          "traceback": [
            "\u001b[0;31m---------------------------------------------------------------------------\u001b[0m",
            "\u001b[0;31mModuleNotFoundError\u001b[0m                       Traceback (most recent call last)",
            "\u001b[0;32m<ipython-input-8-b44850520107>\u001b[0m in \u001b[0;36m<cell line: 1>\u001b[0;34m()\u001b[0m\n\u001b[0;32m----> 1\u001b[0;31m \u001b[0;32mfrom\u001b[0m \u001b[0mapp\u001b[0m \u001b[0;32mimport\u001b[0m \u001b[0mdb\u001b[0m\u001b[0;34m\u001b[0m\u001b[0;34m\u001b[0m\u001b[0m\n\u001b[0m\u001b[1;32m      2\u001b[0m \u001b[0;32mfrom\u001b[0m \u001b[0mdatetime\u001b[0m \u001b[0;32mimport\u001b[0m \u001b[0mdatetime\u001b[0m\u001b[0;34m\u001b[0m\u001b[0;34m\u001b[0m\u001b[0m\n\u001b[1;32m      3\u001b[0m \u001b[0;34m\u001b[0m\u001b[0m\n\u001b[1;32m      4\u001b[0m \u001b[0;32mclass\u001b[0m \u001b[0mUser\u001b[0m\u001b[0;34m(\u001b[0m\u001b[0mdb\u001b[0m\u001b[0;34m.\u001b[0m\u001b[0mModel\u001b[0m\u001b[0;34m)\u001b[0m\u001b[0;34m:\u001b[0m\u001b[0;34m\u001b[0m\u001b[0;34m\u001b[0m\u001b[0m\n\u001b[1;32m      5\u001b[0m     \u001b[0mid\u001b[0m \u001b[0;34m=\u001b[0m \u001b[0mdb\u001b[0m\u001b[0;34m.\u001b[0m\u001b[0mColumn\u001b[0m\u001b[0;34m(\u001b[0m\u001b[0mdb\u001b[0m\u001b[0;34m.\u001b[0m\u001b[0mInteger\u001b[0m\u001b[0;34m,\u001b[0m \u001b[0mprimary_key\u001b[0m\u001b[0;34m=\u001b[0m\u001b[0;32mTrue\u001b[0m\u001b[0;34m)\u001b[0m\u001b[0;34m\u001b[0m\u001b[0;34m\u001b[0m\u001b[0m\n",
            "\u001b[0;31mModuleNotFoundError\u001b[0m: No module named 'app'",
            "",
            "\u001b[0;31m---------------------------------------------------------------------------\u001b[0;32m\nNOTE: If your import is failing due to a missing package, you can\nmanually install dependencies using either !pip or !apt.\n\nTo view examples of installing some common dependencies, click the\n\"Open Examples\" button below.\n\u001b[0;31m---------------------------------------------------------------------------\u001b[0m\n"
          ],
          "errorDetails": {
            "actions": [
              {
                "action": "open_url",
                "actionText": "Open Examples",
                "url": "/notebooks/snippets/importing_libraries.ipynb"
              }
            ]
          }
        }
      ]
    },
    {
      "cell_type": "markdown",
      "source": [
        "**Frontend (HTML, CSS, JavaScript)**\n",
        "- We’ll use simple HTML forms and JavaScript for the frontend. Authentication tokens are stored in localStorage to keep the user logged in across page reloads."
      ],
      "metadata": {
        "id": "SFxXAxMDq5QG"
      }
    },
    {
      "cell_type": "markdown",
      "source": [
        "1. index.html: Expense Tracker Interface"
      ],
      "metadata": {
        "id": "dadXCGlLrH0l"
      }
    },
    {
      "cell_type": "markdown",
      "source": [
        "Steps to Run the Application:\n",
        "1. Backend:\n",
        "- Initialize the database:"
      ],
      "metadata": {
        "id": "9fjyT_LWreCA"
      }
    },
    {
      "cell_type": "code",
      "source": [
        "python app.py\n"
      ],
      "metadata": {
        "colab": {
          "base_uri": "https://localhost:8080/",
          "height": 106
        },
        "id": "PJ667e5Mrnj7",
        "outputId": "d82c2647-639a-4f40-c356-7e74f0e85cc0",
        "collapsed": true
      },
      "execution_count": null,
      "outputs": [
        {
          "output_type": "error",
          "ename": "SyntaxError",
          "evalue": "invalid syntax (<ipython-input-10-b851947b46d7>, line 1)",
          "traceback": [
            "\u001b[0;36m  File \u001b[0;32m\"<ipython-input-10-b851947b46d7>\"\u001b[0;36m, line \u001b[0;32m1\u001b[0m\n\u001b[0;31m    python app.py\u001b[0m\n\u001b[0m           ^\u001b[0m\n\u001b[0;31mSyntaxError\u001b[0m\u001b[0;31m:\u001b[0m invalid syntax\n"
          ]
        }
      ]
    },
    {
      "cell_type": "markdown",
      "source": [
        "Flask server will run on http://localhost:5000."
      ],
      "metadata": {
        "id": "XU-tEDMmrqKU"
      }
    },
    {
      "cell_type": "markdown",
      "source": [
        "2. Frontend:\n",
        "- Open index.html in the browser.\n"
      ],
      "metadata": {
        "id": "XryJP7ggrt8h"
      }
    }
  ]
}